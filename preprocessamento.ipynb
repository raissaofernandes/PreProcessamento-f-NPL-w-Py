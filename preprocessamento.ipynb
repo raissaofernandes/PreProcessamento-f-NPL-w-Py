{
  "nbformat": 4,
  "nbformat_minor": 0,
  "metadata": {
    "kernelspec": {
      "display_name": "Python 3",
      "language": "python",
      "name": "python3"
    },
    "language_info": {
      "codemirror_mode": {
        "name": "ipython",
        "version": 3
      },
      "file_extension": ".py",
      "mimetype": "text/x-python",
      "name": "python",
      "nbconvert_exporter": "python",
      "pygments_lexer": "ipython3",
      "version": "3.7.1"
    },
    "colab": {
      "name": "preprocessamento.ipynb",
      "provenance": [],
      "include_colab_link": true
    }
  },
  "cells": [
    {
      "cell_type": "markdown",
      "metadata": {
        "id": "view-in-github",
        "colab_type": "text"
      },
      "source": [
        "<a href=\"https://colab.research.google.com/github/raissaofernandes/PreProcessamento-f-NPL-w-Py/blob/master/preprocessamento.ipynb\" target=\"_parent\"><img src=\"https://colab.research.google.com/assets/colab-badge.svg\" alt=\"Open In Colab\"/></a>"
      ]
    },
    {
      "cell_type": "markdown",
      "metadata": {
        "id": "hmVP9qB-jv_N",
        "colab_type": "text"
      },
      "source": [
        "### Pré-processamento de dados com Python."
      ]
    },
    {
      "cell_type": "code",
      "metadata": {
        "id": "9xWXqjdUjv_S",
        "colab_type": "code",
        "colab": {}
      },
      "source": [
        "import nltk\n",
        "import unicodedata\n",
        "import re\n",
        "import pandas as pd"
      ],
      "execution_count": 0,
      "outputs": []
    },
    {
      "cell_type": "code",
      "metadata": {
        "id": "1OM5hfhGjv_c",
        "colab_type": "code",
        "colab": {},
        "outputId": "56265dd3-ab7d-4501-96c2-1fa4b589abe3"
      },
      "source": [
        "#declaração das stopwords que serão retiradas dos tuítes\n",
        "stopwords = ['pra', 'pro','to', 'ta','de', 'a', 'o', 'que', 'e', 'do', 'da', 'em', 'um', 'para', 'a', 'com', 'nao', 'uma', 'os', 'no', 'se', 'na', 'por', 'mais', 'as', 'dos', 'como', 'mas', 'foi', 'ao', 'ele', 'das', 'tem', 'a', 'seu', 'sua', 'ou', 'ser', 'quando', 'muito', 'ha', 'nos', 'ja', 'esta', 'eu', 'tambam', 'sa3', 'pelo', 'pela', 'ata', 'isso', 'ela', 'entre', 'era', 'depois', 'sem', 'mesmo', 'aos', 'ter', 'seus', 'quem', 'nas', 'me', 'esse', 'eles', 'estao', 'vocaa', 'tinha', 'foram', 'essa', 'num', 'nem', 'suas', 'meu', 'a s', 'minha', 'taam', 'numa', 'pelos', 'elas', 'havia', 'seja', 'qual', 'sera', 'na3s', 'tenho', 'lhe', 'deles', 'essas', 'esses', 'pelas', 'este', 'fosse', 'dele', 'tu', 'te', 'vocaas', 'vos', 'lhes', 'meus', 'minhas', 'teu', 'tua', 'teus', 'tuas', 'nosso', 'nossa', 'nossos', 'nossas', 'dela', 'delas', 'esta', \n",
        "'estes', 'estas', 'aquele', 'aquela', 'aqueles', 'aquelas', 'isto', 'aquilo', 'estou', 'esta', 'estamos', 'estao', 'estive', 'esteve', 'estivemos', 'estiveram', 'estava', 'estavamos', 'estavam', 'estivera', 'estivaramos', 'esteja', 'estejamos', 'estejam', 'estivesse', 'estivassemos', 'estivessem', 'estiver', 'estivermos', 'estiverem', 'hei', 'ha', 'havemos', 'hao', 'houve', 'houvemos', 'houveram', 'houvera', 'houvaramos', 'haja', 'hajamos', 'hajam', 'houvesse', 'houvassemos', 'houvessem', 'houver', 'houvermos', 'houverem', 'houverei', 'houvera', 'houveremos', 'houverao', 'houveria', 'houveraamos', 'houveriam', 'sou', 'somos', 'sao', 'era', 'aramos', 'eram', 'fui', 'foi', 'fomos', 'foram', 'fora', 'fa ramos', 'seja', 'sejamos', 'sejam', 'fosse', 'fa ssemos', 'fossem', 'for', 'formos', 'forem', 'serei', 'sera', 'seremos', 'serao', 'seria', 'seraamos', 'seriam', 'tenho', 'tem', 'temos', 'tam', 'tinha', 'tanhamos', 'tinham', 'tive', 'teve', 'tivemos', 'tiveram', 'tivera', 'tivaramos', 'tenha', 'tenhamos', 'tenham', 'tivesse', 'tivassemos', 'tivessem', 'tiver', 'tivermos', 'tiverem', 'terei', 'tera', 'teremos', 'terao', 'teria', 'teraamos', 'teriam']\n",
        "print(len(stopwords))"
      ],
      "execution_count": 0,
      "outputs": [
        {
          "output_type": "stream",
          "text": [
            "224\n"
          ],
          "name": "stdout"
        }
      ]
    },
    {
      "cell_type": "code",
      "metadata": {
        "id": "2EdL1n2Vjv_v",
        "colab_type": "code",
        "colab": {}
      },
      "source": [
        "#função para a remoção das stopwords\n",
        "def remove_stopWords(sentence):\n",
        "    frase = []\n",
        "    for word in sentence.split():\n",
        "        if word not in stopwords:\n",
        "           # semStop = [p for p in word.split() if p not in stopwords]\n",
        "            frase.append(word)\n",
        "    return ' '.join(frase)"
      ],
      "execution_count": 0,
      "outputs": []
    },
    {
      "cell_type": "code",
      "metadata": {
        "id": "wLMYkD2Tjv_2",
        "colab_type": "code",
        "colab": {}
      },
      "source": [
        "def removerAcentosECaracteresEspeciais(palavra):\n",
        "    nfkd = unicodedata.normalize('NFKD', palavra)\n",
        "    palavraSemAcento = u\"\".join([c for c in nfkd if not unicodedata.combining(c)])\n",
        "    palavraSemAcento = re.sub('[^a-zA-Z0-9 \\\\\\]', '', palavraSemAcento)\n",
        "    return palavraSemAcento"
      ],
      "execution_count": 0,
      "outputs": []
    },
    {
      "cell_type": "code",
      "metadata": {
        "id": "FRdSWs5Vjv_-",
        "colab_type": "code",
        "colab": {}
      },
      "source": [
        "#recebe os tuítes e a coluna Text\n",
        "def limpeza_dados(tuites, text_field):\n",
        "    tuites[text_field] = tuites[text_field].str.lower() #coloca todo o tuíte em letras minúsculas\n",
        "    tuites[text_field] = tuites[text_field].str.replace(r\"#\", \" \") #remove hashtags\n",
        "    tuites[text_field] = tuites[text_field].str.replace(r\"http\\S+\", \" \") #remove os links\n",
        "    tuites[text_field] = tuites[text_field].str.replace(r\"@\", \"at\") #remove os arrobas e substitui por at\n",
        "    tuites[text_field] = tuites[text_field].str.replace(r\"\\n\", \" \") #remove as linhas em branco\n",
        "    return tuites"
      ],
      "execution_count": 0,
      "outputs": []
    }
  ]
}